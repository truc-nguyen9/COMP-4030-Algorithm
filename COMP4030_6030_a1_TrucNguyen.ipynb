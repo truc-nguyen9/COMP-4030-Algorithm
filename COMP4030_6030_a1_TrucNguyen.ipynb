{
 "cells": [
  {
   "cell_type": "markdown",
   "metadata": {},
   "source": [
    "# COMP 4030/6030 Assignment 1\n",
    "### Due 9/3/2020"
   ]
  },
  {
   "cell_type": "markdown",
   "metadata": {},
   "source": [
    "### Name:  Truc Nguyen"
   ]
  },
  {
   "cell_type": "markdown",
   "metadata": {},
   "source": [
    "### Note:\n",
    "\n",
    "+ This work must be carried out by you.  \n",
    "\n",
    "+ Help on non-relevant aspects of the assignment is acceptable. If you receive help in any way, shape or form, you must explicitly acknolwedge it. \n",
    "\n",
    "+ Using work done by others without explicit citation is considered cheating.\n",
    "\n",
    "+ Put your name in the assignment file name.  Example:\n",
    "    + Original name: COMP4030_6030_a1.ipynb\n",
    "    + Your submission: **COMP4030_6030_a1_JohnSmith.ipynb**\n",
    "\n",
    "+ Upload your submission to eLearn.\n",
    "\n",
    "\n",
    "### Acknowledgement\n",
    "\n",
    "I have received help from these sources:\n",
    "* tba"
   ]
  },
  {
   "cell_type": "code",
   "execution_count": 2,
   "metadata": {},
   "outputs": [],
   "source": [
    "def squares(L):\n",
    "    if L==[]:\n",
    "        return [] \n",
    "    first = L.pop(0)\n",
    "    return [ first*first ] + squares(L)"
   ]
  },
  {
   "cell_type": "markdown",
   "metadata": {},
   "source": [
    "**Question 1: Explain in English what the \"squares\" function does.  Your explanation should reflect accurately all of steps of the function**\n",
    "\n",
    "ANSWER: \n",
    "* if the input is empty list, the lis of square of element will return the empty list.\n",
    "* Remove the fist element of the list L. We reduce the size of the the problem.\n",
    "* Return the list of the square of the first element of the list L, and the square of the rest of the elements of the lis L.\n",
    "\n",
    " \n",
    " "
   ]
  },
  {
   "cell_type": "markdown",
   "metadata": {},
   "source": [
    "**Question 2: Trace squares on the input [5]**\n",
    "\n",
    "ANSWER:\n",
    "squares([5]) \n",
    "first = 5\n",
    "output = [25] + squares([])\n",
    "\n",
    "squares([])\n",
    "output = []\n",
    "\n",
    "So the output of the squares([5]) is\n",
    "\n",
    "= [25] + squares([])\n",
    "\n",
    "= [25] + []\n",
    "\n",
    "=[25]\n",
    "\n",
    "the output is the list [25]\n"
   ]
  },
  {
   "cell_type": "markdown",
   "metadata": {},
   "source": [
    "**Question 3: Trace squares on the input [5, 3, 10, 6]**\n",
    "\n",
    "ANSWER:\n",
    "squares([5, 3, 10, 6])\n",
    "first = 5\n",
    "output = [25] + squares([3, 10, 6])\n",
    "\n",
    "squares([3, 10, 6])\n",
    "first = 3\n",
    "output = [9] + squares([10, 6])\n",
    "\n",
    "squares([10, 6])\n",
    "first = 10\n",
    "output = [100] + squares([6])\n",
    "\n",
    "squares([6])\n",
    "first = 6\n",
    "output = [36] + squares([])\n",
    "\n",
    "squares([])\n",
    "output = []\n",
    "\n",
    "So the output of the squares([5, 3, 10, 6]) is\n",
    "\n",
    "=[25] + squares([3, 10, 6])\n",
    "\n",
    "=[25] + [9] + squares([10, 6])\n",
    "\n",
    "=[25] + [9] + [100] + squares([6])\n",
    "\n",
    "=[25] + [9] + [100] + [36] + squares([])\n",
    "\n",
    "=[25] + [9] + [100] + [36] +[]\n",
    "\n",
    "= [25, 9, 100, 36]\n",
    "\n",
    "the output is list [25, 9, 100, 36]"
   ]
  },
  {
   "cell_type": "markdown",
   "metadata": {},
   "source": [
    "**Question 4: Given [5,3,10,6,7,9,10,4,11] as input, use mathematical induction on line 5 of the function squares (instead of tracing it) to deduce the output.**\n",
    "\n",
    "ANSWER:\n",
    "squares([5,3,10,6,7,9,10,4,11])\n",
    "\n",
    "first = 5\n",
    "\n",
    "output = [25] + squares([3,10,6,7,9,10,4,11])\n",
    "\n",
    "Expect output of the squares([3,10,6,7,9,10,4,11]) is [9,100,36,49,81,100,16,121]\n",
    "\n",
    "If the square works correctly, the output of squares([5,3,10,6,7,9,10,4,11]) is [25,9,100,36,49,81,100,16,121]"
   ]
  },
  {
   "cell_type": "markdown",
   "metadata": {},
   "source": [
    "**Question 5: Complete the code below with an iterative design to reverse the input list L.**\n"
   ]
  },
  {
   "cell_type": "code",
   "execution_count": 3,
   "metadata": {},
   "outputs": [],
   "source": [
    "\n",
    "def reverse_iter(L):\n",
    "    if L == []:\n",
    "        return []\n",
    "    new_L = []\n",
    "    for y in L[::-1]:\n",
    "        new_L.append(y)\n",
    "    return new_L\n"
   ]
  },
  {
   "cell_type": "markdown",
   "metadata": {},
   "source": [
    "**Question 6: Complete the code below with a recursive design to reverse the input list L.**"
   ]
  },
  {
   "cell_type": "code",
   "execution_count": 4,
   "metadata": {},
   "outputs": [],
   "source": [
    "\n",
    "def reverse_rec(L):\n",
    "    if L ==[]:\n",
    "        return []\n",
    "    last = L.pop(-1)\n",
    "    return [last] + reverse_rec(L)\n",
    "\n"
   ]
  }
 ],
 "metadata": {
  "kernelspec": {
   "display_name": "Python 3 (ipykernel)",
   "language": "python",
   "name": "python3"
  },
  "language_info": {
   "codemirror_mode": {
    "name": "ipython",
    "version": 3
   },
   "file_extension": ".py",
   "mimetype": "text/x-python",
   "name": "python",
   "nbconvert_exporter": "python",
   "pygments_lexer": "ipython3",
   "version": "3.8.10"
  }
 },
 "nbformat": 4,
 "nbformat_minor": 4
}

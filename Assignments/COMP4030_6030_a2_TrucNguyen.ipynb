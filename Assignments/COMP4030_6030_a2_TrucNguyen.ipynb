{
 "cells": [
  {
   "cell_type": "markdown",
   "metadata": {},
   "source": [
    "# COMP 4030/6030 Assignment 2\n",
    "### Due 9/17/2020"
   ]
  },
  {
   "cell_type": "markdown",
   "metadata": {},
   "source": [
    "### Name:  Truc Nguyen"
   ]
  },
  {
   "cell_type": "markdown",
   "metadata": {},
   "source": [
    "### Note:\n",
    "\n",
    "+ This work must be carried out by you.  \n",
    "\n",
    "+ Help on non-relevant aspects of the assignment is acceptable. If you receive help in any way, shape or form, you must explicitly acknolwedge it. \n",
    "\n",
    "+ Using work done by others without explicit citation is considered cheating.\n",
    "\n",
    "+ Put your name in the assignment file name.  Example:\n",
    "    + Original name: COMP4030_6030_a2.ipynb\n",
    "    + Your submission: **COMP4030_6030_a2_JohnSmith.ipynb**\n",
    "\n",
    "+ Upload your submission to eLearn.\n",
    "\n",
    "\n",
    "### Acknowledgement\n",
    "\n",
    "I have received help from these sources:\n",
    "* tba"
   ]
  },
  {
   "cell_type": "markdown",
   "metadata": {},
   "source": [
    "**Question 1 (15 points): Use the definition of O to show that $n^2 + 5 \\in O(n^2)$** "
   ]
  },
  {
   "cell_type": "markdown",
   "metadata": {},
   "source": [
    "ANSWER: $T(n)= n^2 + 5 \\le n^2 + 5n^2 = 6n^2$ for all n > 1.\n",
    "Therefore, $n^2 + 5 \\in O(n^2)$\n",
    "\n",
    "\n"
   ]
  },
  {
   "cell_type": "markdown",
   "metadata": {},
   "source": [
    "**Question 2  (15 points): Use the definition of O to show that $n^2 + 5 \\in O(n^3)$**"
   ]
  },
  {
   "cell_type": "markdown",
   "metadata": {},
   "source": [
    "ANSWER: $T(n)= n^2 + 5 \\le n^3 + 5n^3 = 6n^3$ for all n > 1. \n",
    "Therefore, $n^2 + 5 \\in O(n^3)$\n",
    "\n"
   ]
  },
  {
   "cell_type": "markdown",
   "metadata": {},
   "source": [
    "**Question 3  (15 points): Use the definition of $\\Omega$ to show that $n^2 + 5 \\in \\Omega(n)$**"
   ]
  },
  {
   "cell_type": "markdown",
   "metadata": {},
   "source": [
    "ANSWER: $T(n)= n^2 + 5 \\ge n + 5n = 6n$ for all n > 1.\n",
    "Therefore, $n^2 + 5 \\in \\Omega(n)$\n",
    "\n"
   ]
  },
  {
   "cell_type": "markdown",
   "metadata": {},
   "source": [
    "**Question 4  (15 points): Use the definition of $\\Theta$ to show that $n^2 + 5 \\in \\Theta(n^2)$**"
   ]
  },
  {
   "cell_type": "markdown",
   "metadata": {},
   "source": [
    "ANSWER: $T(n)= n^2 + 5 \\in O(n^2)$ and $T(n)= n^2 + 5 \\in \\Omega(n^2)$, for all n > 1. Therefore, $T(n)= n^2 + 5 \\in \\Theta(n^2)$"
   ]
  },
  {
   "cell_type": "markdown",
   "metadata": {},
   "source": [
    "**Question 5 (20 points): Find the running time function, $T(n)$, of the following function foo.**"
   ]
  },
  {
   "cell_type": "code",
   "execution_count": 1,
   "metadata": {},
   "outputs": [],
   "source": [
    "\n",
    "def foo(L):\n",
    "    s = 0\n",
    "    for x in L:\n",
    "        for y in L:\n",
    "            for z in L:\n",
    "                s += x*y + z\n",
    "    for x in L:\n",
    "        s += x*x\n",
    "    return s\n"
   ]
  },
  {
   "cell_type": "markdown",
   "metadata": {},
   "source": [
    "ANSWER: \n",
    "* Constant time: $c_1$\n",
    "    * Line 2\n",
    "    * Line 9\n",
    "    \n",
    "* Line 3-6: $c_3 * n^3$\n",
    "\n",
    "* Line 7-7: $c_2 * n$\n",
    "\n",
    "\n",
    "$T(n) = c_3 * n^3 + c_2 * n + c_1$\n"
   ]
  },
  {
   "cell_type": "markdown",
   "metadata": {},
   "source": [
    "**Question 6 (15 points): Use the definition of $\\Theta$ to find the asymptotic complexity of the function foo.**"
   ]
  },
  {
   "cell_type": "markdown",
   "metadata": {},
   "source": [
    "ANSWER: $T(n) = c_3 * n^3 + c_2 * n + c_1 \\le c * n^3$, for all n > 1. Therefore, $T(n) \\in O(n^3)$ (1)\n",
    "\n",
    "\n",
    "$T(n) = c_3 * n^3 + c_2 * n + c_1 \\ge 1 * n^3$, for all n > 1. Therefore, $T(n) \\in \\Omega(n^3)$ (2)\n",
    "\n",
    "(1),(2), we have: $T(n) = c_3 * n^3 + c_2 * n + c_1 \\in \\Theta(n^3)$\n"
   ]
  },
  {
   "cell_type": "markdown",
   "metadata": {},
   "source": [
    "**Question 7 (5 points): Determine the running time function of the function bar below.  Guess its the asymptotic complexity.  Explain your guess.**\n",
    "\n",
    "You may assume that lines 5 and 6 take constant time."
   ]
  },
  {
   "cell_type": "code",
   "execution_count": 2,
   "metadata": {},
   "outputs": [],
   "source": [
    "def bar(L):\n",
    "    if len(L) < 2:\n",
    "        return True\n",
    "    if L[0] == L[-1]:\n",
    "        L.pop(0)\n",
    "        L.pop(-1)\n",
    "        return bar(L)\n",
    "    else:\n",
    "        return False"
   ]
  },
  {
   "cell_type": "markdown",
   "metadata": {},
   "source": [
    "ANSWER: $T(n) = c * T(n-2) = c + c + T(n-4) = c + c + c + T(n-6)$\n",
    "\n",
    "$T(n)= c * (n-1) + T(n - (n - 1)) = c * (n-1) + T(1) = c*n + 1 - c $\n",
    "* the asymptotic complexity:\n",
    "    * $T(n) = c * n + 1 - c \\le (c+1) * n$, for all n > 1. Therfore, $T(n) \\in O(n)$ (1)\n",
    "    \n",
    "    * $T(n) = c * n + 1 - c \\ge c * n$, for all n > 1. Therfore, $T(n) \\in \\Omega(n)$ (2)\n",
    "    \n",
    "    (1),(2) Therefore $T(n) \\in \\Theta(n)$\n",
    "    \n",
    "        \n"
   ]
  }
 ],
 "metadata": {
  "kernelspec": {
   "display_name": "Python 3",
   "language": "python",
   "name": "python3"
  },
  "language_info": {
   "codemirror_mode": {
    "name": "ipython",
    "version": 3
   },
   "file_extension": ".py",
   "mimetype": "text/x-python",
   "name": "python",
   "nbconvert_exporter": "python",
   "pygments_lexer": "ipython3",
   "version": "3.8.3"
  }
 },
 "nbformat": 4,
 "nbformat_minor": 2
}

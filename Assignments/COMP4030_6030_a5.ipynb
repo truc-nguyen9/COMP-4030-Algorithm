{
 "cells": [
  {
   "cell_type": "markdown",
   "metadata": {},
   "source": [
    "# COMP 4030/6030 Assignment 5\n",
    "### Due 10/29/2020"
   ]
  },
  {
   "cell_type": "markdown",
   "metadata": {},
   "source": [
    "### Name:  Truc Nguyen\n"
   ]
  },
  {
   "cell_type": "markdown",
   "metadata": {},
   "source": [
    "### Note:\n",
    "\n",
    "+ This work must be carried out by you.  \n",
    "\n",
    "+ Help on non-relevant aspects of the assignment is acceptable. If you receive help in any way, shape or form, you must explicitly acknolwedge it. \n",
    "\n",
    "+ Using work done by others without explicit citation is considered cheating.\n",
    "\n",
    "+ Put your name in the assignment file name.  Example:\n",
    "    + Original name: COMP4030_6030_a5.ipynb\n",
    "    + Your submission: **COMP4030_6030_a5_JohnSmith.ipynb**\n",
    "\n",
    "+ Upload your submission to eLearn.\n",
    "\n",
    "\n",
    "### Acknowledgement\n",
    "\n",
    "I have received help from these sources:\n",
    "* tba"
   ]
  },
  {
   "cell_type": "markdown",
   "metadata": {},
   "source": [
    "**Question 1**\n",
    "\n",
    "What does the function split do?  Explain with an example.\n"
   ]
  },
  {
   "cell_type": "code",
   "execution_count": 11,
   "metadata": {},
   "outputs": [],
   "source": [
    "\n",
    "def split(L, first):\n",
    "    return [b for b in L if b <= first], [b for b in L if b > first]\n"
   ]
  },
  {
   "cell_type": "markdown",
   "metadata": {},
   "source": [
    "ANSWER:\n",
    "\n",
    "\n",
    "The function split separates the list into two lists. \n",
    "\n",
    "The first list is a list of all the elements of the L list that is less than or equal to first, the other part is a list of all the elements of the L list that is greater then first.\n",
    "\n",
    "For example below:\n",
    "   * The function separate the list [3,2,5,6,7,9] into 2 lists that element compare with 4:\n",
    "       * [3,2] is all elements that is less than 4\n",
    "       * [5, 6, 7, 9] is all elements that is greater than 4\n"
   ]
  },
  {
   "cell_type": "code",
   "execution_count": 13,
   "metadata": {},
   "outputs": [
    {
     "data": {
      "text/plain": [
       "([3, 2], [5, 6, 7, 9])"
      ]
     },
     "execution_count": 13,
     "metadata": {},
     "output_type": "execute_result"
    }
   ],
   "source": [
    "split([3,2,5,6,7,9], 4)"
   ]
  },
  {
   "cell_type": "markdown",
   "metadata": {},
   "source": [
    "**Question 2**\n",
    "\n",
    "Implement a function, *my_sort*, that sorts an unsorted list of number.  The input is an unsorted list. The output is the sorted list of the input list.\n",
    "\n",
    "Your function must be based on the following strategy:\n",
    "\n",
    "* Remove the first element of the input list L.\n",
    "* *Split* the list into two lists with the first element.  (Use the split function in the previous problem.)\n",
    "* Use the same sorting strategy on the two lists.\n",
    "* Assemble everything to construct the sorted list of L.\n",
    "* Remember to take care of the case when the list is too small to be splitted.\n",
    "\n"
   ]
  },
  {
   "cell_type": "code",
   "execution_count": 2,
   "metadata": {},
   "outputs": [],
   "source": [
    "#\n",
    "# Input: L, unsorted list\n",
    "# Output: the sorted list of L\n",
    "#\n",
    "def my_sort(L):\n",
    "    x = []\n",
    "    if len(L) == 0:\n",
    "        return L\n",
    "    first = L.pop(0)\n",
    "    left,right = split(L,first)\n",
    "    small = my_sort(left)\n",
    "    large = my_sort(right)\n",
    "    x.append(first)\n",
    "    return small + x + large"
   ]
  },
  {
   "cell_type": "markdown",
   "metadata": {},
   "source": [
    "You can use the code below to test your function with random lists."
   ]
  },
  {
   "cell_type": "code",
   "execution_count": 1,
   "metadata": {},
   "outputs": [],
   "source": [
    "import random\n",
    "\n",
    "def random_list(n, m=0, M=100):\n",
    "    return [ random.randint(m, M) for i in range(n) ]"
   ]
  },
  {
   "cell_type": "code",
   "execution_count": 4,
   "metadata": {},
   "outputs": [
    {
     "name": "stdout",
     "output_type": "stream",
     "text": [
      "[76, 52, 74, 92, 10, 27, 80, 73, 99, 25]\n",
      "[10, 25, 27, 52, 73, 74, 76, 80, 92, 99]\n"
     ]
    }
   ],
   "source": [
    "# SHOW CODE TO TEST YOUR FUNCTION my_sort\n",
    "\n",
    "L = random_list(10)\n",
    "print (L)\n",
    "print(my_sort(L))"
   ]
  },
  {
   "cell_type": "markdown",
   "metadata": {},
   "source": [
    "**Problem 3**\n",
    "\n",
    "The function *distance* returns the distance between two strings X and Y.  Its running time is exponential.  Explain why.\n",
    "\n",
    "(Note: make sure you understand what X[0: -1] is.)"
   ]
  },
  {
   "cell_type": "code",
   "execution_count": 2,
   "metadata": {},
   "outputs": [],
   "source": [
    "#\n",
    "# Input: X, Y, which are strings\n",
    "# Output: a number, which is the distance between the two strings\n",
    "#\n",
    "def distance(X, Y):\n",
    "    if len(X)==0:\n",
    "        return len(Y)\n",
    "    if len(Y)==0:\n",
    "        return len(X)\n",
    "    if X[-1]==Y[-1]:\n",
    "        return distance(X[0:-1],  Y[0:-1])\n",
    "    else:\n",
    "        a = distance(X[0:-1], Y[0:-1])\n",
    "        b = distance(X, Y[0:-1])\n",
    "        c = distance(X[0:-1], Y)\n",
    "        return 1 + min(a,b,c)"
   ]
  },
  {
   "cell_type": "markdown",
   "metadata": {},
   "source": [
    "ANSWER:\n",
    "the function distance keeps recursive until the lenghth of X or Y is 0, taking one character off each time. The recurrence relations imply an obvious ternary-recursive routine. This is not a good idea because it is exponentially slow, and impractical for strings of more than a very few characters.\n"
   ]
  },
  {
   "cell_type": "markdown",
   "metadata": {},
   "source": [
    "**Problem 4**\n",
    "\n",
    "Use the technique of storing computation we learned to make *distance* much faster.  (Make sure you read the lecture notes and understand how to store computation correctly)\n",
    "\n",
    "Use 20 random lists to test that *distance* and *fast_distance* give the same output."
   ]
  },
  {
   "cell_type": "code",
   "execution_count": 3,
   "metadata": {},
   "outputs": [],
   "source": [
    "Table = {}\n",
    "def fast_distance(X, Y):\n",
    "    if (X,Y) in Table:\n",
    "        return Table[(X,Y)]\n",
    "    if len(X) == 0:\n",
    "        Table[(X,Y)] = len(Y)\n",
    "        return len(Y)\n",
    "    if len(Y) == 0:\n",
    "        Table[(X,Y)] = len(X)\n",
    "        return len(X)\n",
    "    if X[-1] == Y[-1]:\n",
    "        Table[(X[:-1],Y[:-1])] = fast_distance(X[0:-1], Y[0:-1])\n",
    "        return fast_distance(X[0:-1], Y[0:-1])\n",
    "    else:\n",
    "        a = fast_distance(X[0:-1], Y[0:-1])\n",
    "        Table[(X,Y)] = a\n",
    "        b = fast_distance(X, Y[0:-1])\n",
    "        Table[(X,Y)] = b\n",
    "        c = fast_distance(X[0:-1], Y)\n",
    "        Table[(X,Y)] = c\n",
    "        Table[(X,Y)] = 1 + min(a,b,c)\n",
    "        output = Table[(X,Y)]\n",
    "        return output"
   ]
  },
  {
   "cell_type": "code",
   "execution_count": 5,
   "metadata": {},
   "outputs": [
    {
     "name": "stdout",
     "output_type": "stream",
     "text": [
      "1\n",
      "x: MtQeHUVJ\n",
      "y: afXo\n",
      "distance:  8\n",
      "fast distance:  8 \n",
      "\n",
      "2\n",
      "x: VNnxeNhx\n",
      "y: RGJ\n",
      "distance:  8\n",
      "fast distance:  8 \n",
      "\n",
      "3\n",
      "x: igLG\n",
      "y: JAgWQwi\n",
      "distance:  6\n",
      "fast distance:  6 \n",
      "\n",
      "4\n",
      "x: DINwKSF\n",
      "y: z\n",
      "distance:  7\n",
      "fast distance:  7 \n",
      "\n",
      "5\n",
      "x: jIFO\n",
      "y: Tl\n",
      "distance:  4\n",
      "fast distance:  4 \n",
      "\n",
      "6\n",
      "x: cGGDuiD\n",
      "y: kaomjB\n",
      "distance:  7\n",
      "fast distance:  7 \n",
      "\n",
      "7\n",
      "x: FKIe\n",
      "y: p\n",
      "distance:  4\n",
      "fast distance:  4 \n",
      "\n",
      "8\n",
      "x: uE\n",
      "y: JL\n",
      "distance:  2\n",
      "fast distance:  2 \n",
      "\n",
      "9\n",
      "x: ykYssEq\n",
      "y: fIkAJO\n",
      "distance:  7\n",
      "fast distance:  7 \n",
      "\n",
      "10\n",
      "x: DxlpfVr\n",
      "y: GqTwUp\n",
      "distance:  7\n",
      "fast distance:  7 \n",
      "\n",
      "11\n",
      "x: TSkHtG\n",
      "y: yDDrxeD\n",
      "distance:  7\n",
      "fast distance:  7 \n",
      "\n",
      "12\n",
      "x: youzEjAY\n",
      "y: jK\n",
      "distance:  7\n",
      "fast distance:  7 \n",
      "\n",
      "13\n",
      "x: vlpn\n",
      "y: \n",
      "distance:  4\n",
      "fast distance:  4 \n",
      "\n",
      "14\n",
      "x: wNhCH\n",
      "y: F\n",
      "distance:  5\n",
      "fast distance:  5 \n",
      "\n",
      "15\n",
      "x: \n",
      "y: px\n",
      "distance:  2\n",
      "fast distance:  2 \n",
      "\n",
      "16\n",
      "x: \n",
      "y: SN\n",
      "distance:  2\n",
      "fast distance:  2 \n",
      "\n",
      "17\n",
      "x: JTigg\n",
      "y: g\n",
      "distance:  4\n",
      "fast distance:  4 \n",
      "\n",
      "18\n",
      "x: RgTmyF\n",
      "y: yRLX\n",
      "distance:  6\n",
      "fast distance:  6 \n",
      "\n",
      "19\n",
      "x: fo\n",
      "y: \n",
      "distance:  2\n",
      "fast distance:  2 \n",
      "\n",
      "20\n",
      "x: b\n",
      "y: sY\n",
      "distance:  2\n",
      "fast distance:  2 \n",
      "\n"
     ]
    }
   ],
   "source": [
    "# SHOW THAT distance AND fast_distance PRODUCE THE SAME OUTPUTS.\n",
    "# Make sure fast_distance is actually *fast*\n",
    "import random\n",
    "import string\n",
    "\n",
    "in_list_1 = random_list(20,0,8)\n",
    "in_list_2 = random_list(20,0,8)\n",
    "\n",
    "letters = string.ascii_letters\n",
    "i = 1\n",
    "while i <= 20:\n",
    "    x = ''.join(random.choice(letters) for i in range(in_list_1[i-1]))\n",
    "    y = ''.join(random.choice(letters) for i in range(in_list_2[i-1]))\n",
    "    print(i)\n",
    "    print('x:', x)\n",
    "    print('y:', y)\n",
    "    print ('distance: ',distance(x,y))\n",
    "    print('fast distance: ',fast_distance(x,y),'\\n')\n",
    "    i += 1"
   ]
  },
  {
   "cell_type": "markdown",
   "metadata": {},
   "source": [
    "**Problem 5**\n",
    "\n",
    "The *time* module of Python lets you find out the current time.  The method *time.time()* tells you the number of seconds since 1970.\n",
    "\n",
    "Use this method to compare the running time of *distance* and *fast_distance* for large lists."
   ]
  },
  {
   "cell_type": "code",
   "execution_count": 9,
   "metadata": {},
   "outputs": [
    {
     "name": "stdout",
     "output_type": "stream",
     "text": [
      "distance function runs:  10.789767980575562\n",
      "fast_distance runs:  7.605552673339844e-05\n"
     ]
    }
   ],
   "source": [
    "# YOUR CODE \n",
    "import time\n",
    "\n",
    "x = 'Hello world'\n",
    "y = 'How are you'\n",
    "start_1 = time.time()\n",
    "distance(x,y)\n",
    "end_1 = time.time()\n",
    "time_distance =  end_1 - start_1\n",
    "print('distance function runs: ',time_distance)\n",
    "\n",
    "start = time.time()\n",
    "fast_distance(x,y)\n",
    "end = time.time()\n",
    "time_fast_distance = end - start\n",
    "print('fast_distance runs: ',time_fast_distance)"
   ]
  },
  {
   "cell_type": "code",
   "execution_count": null,
   "metadata": {},
   "outputs": [],
   "source": []
  }
 ],
 "metadata": {
  "kernelspec": {
   "display_name": "Python 3 (ipykernel)",
   "language": "python",
   "name": "python3"
  },
  "language_info": {
   "codemirror_mode": {
    "name": "ipython",
    "version": 3
   },
   "file_extension": ".py",
   "mimetype": "text/x-python",
   "name": "python",
   "nbconvert_exporter": "python",
   "pygments_lexer": "ipython3",
   "version": "3.8.10"
  }
 },
 "nbformat": 4,
 "nbformat_minor": 4
}

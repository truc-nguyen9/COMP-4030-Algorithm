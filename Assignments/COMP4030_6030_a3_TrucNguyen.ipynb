{
 "cells": [
  {
   "cell_type": "markdown",
   "metadata": {},
   "source": [
    "# COMP 4030/6030 Assignment 3\n",
    "### Due 10/01/2020"
   ]
  },
  {
   "cell_type": "markdown",
   "metadata": {},
   "source": [
    "### Name:  Truc Nguyen"
   ]
  },
  {
   "cell_type": "markdown",
   "metadata": {},
   "source": [
    "### Note:\n",
    "\n",
    "+ This work must be carried out by you.  \n",
    "\n",
    "+ Help on non-relevant aspects of the assignment is acceptable. If you receive help in any way, shape or form, you must explicitly acknolwedge it. \n",
    "\n",
    "+ Using work done by others without explicit citation is considered cheating.\n",
    "\n",
    "+ Put your name in the assignment file name.  Example:\n",
    "    + Original name: COMP4030_6030_a3.ipynb\n",
    "    + Your submission: **COMP4030_6030_a3_JohnSmith.ipynb**\n",
    "\n",
    "+ Upload your submission to eLearn.\n",
    "\n",
    "\n",
    "### Acknowledgement\n",
    "\n",
    "I have received help from these sources:\n",
    "* tba"
   ]
  },
  {
   "cell_type": "markdown",
   "metadata": {},
   "source": [
    "**Question 1 (15 points): Find the running time equation for the following function** "
   ]
  },
  {
   "cell_type": "code",
   "execution_count": 5,
   "metadata": {},
   "outputs": [],
   "source": [
    "def prob1(L):\n",
    "    if L==[]:\n",
    "        return 0\n",
    "    first = L.pop(0)\n",
    "    return first + prob(L)"
   ]
  },
  {
   "cell_type": "markdown",
   "metadata": {},
   "source": [
    "ANSWER:\n",
    "\n",
    "* Constant: line 2, 3, 4\n",
    "* Line 5: T(n-1)\n",
    "\n",
    "T(n) = c + T(n-1) \n",
    "\n",
    "T(n) = c + (c + T(n-2)) = 2c + T(n-2)\n",
    "\n",
    "T(n) = 2c + (c + T(n-3)) = 3c + T(n-3)\n",
    "\n",
    "...\n",
    "\n",
    "T(n) = kc + T(n - k)\n",
    "\n",
    "We stop when n - k = 0, k = n\n",
    "\n",
    "So, T(n) = nc + T(0) = nc\n"
   ]
  },
  {
   "cell_type": "markdown",
   "metadata": {},
   "source": [
    "-----------"
   ]
  },
  {
   "cell_type": "markdown",
   "metadata": {},
   "source": [
    "**Question 2  (15 points): Find the running time equation for the following function**"
   ]
  },
  {
   "cell_type": "code",
   "execution_count": 6,
   "metadata": {},
   "outputs": [],
   "source": [
    "def prob2(L):\n",
    "    if L==[]:\n",
    "        return 0\n",
    "    total = L.pop(0)\n",
    "    for x in L:\n",
    "        total += x\n",
    "    return total + prob(L)\n"
   ]
  },
  {
   "cell_type": "markdown",
   "metadata": {},
   "source": [
    "ANSWER:\n",
    "\n",
    "* Line 2, 3, 4: constant c\n",
    "* Line 5, 6: constant c_1 * n\n",
    "* Line 7: T(n-1)\n",
    "\n",
    "T(n) = c + c_1 * n + T(n-1) \n",
    "\n",
    "T(n) = n + T(n-1) \n",
    "\n",
    "T(n) = n + (n-1) + T(n-2) \n",
    "\n",
    "T(n) = n + (n-1) + (n-2) + T(n-3)\n",
    "\n",
    "...\n",
    "\n",
    "T(n) = 1 + 2 + 3 +...+ n\n",
    "\n",
    "So,T(n) = n(n-1)/2\n",
    "\n"
   ]
  },
  {
   "cell_type": "markdown",
   "metadata": {},
   "source": [
    "-----------"
   ]
  },
  {
   "cell_type": "markdown",
   "metadata": {},
   "source": [
    "**Question 3  (15 points): Use the substitution method to determine the complexity (in terms of $\\Theta$) of the following running time function: $T(n) = 5 + T(n-1)$. You may assume that $T(0) = 5$.**\n",
    "\n",
    "\n",
    "**Show your work, including intermediate results.  You might want to use the \"scratch space\" to keep track of temporary work.**\n",
    "\n",
    "\n"
   ]
  },
  {
   "cell_type": "markdown",
   "metadata": {},
   "source": [
    "ANSWER:\n",
    "T(n) = 5 + T(n-1) \n",
    "\n",
    "T(n) = 5 + (5 + T(n-2)) = 2 * 5 + T(n-2)\n",
    "\n",
    "T(n) = 2 * 5 + (5 + T(n-3)) = 3 * 5 + T(n-3)\n",
    "\n",
    "...\n",
    "\n",
    "T(n) = k * 5 + T(n-k)\n",
    "\n",
    "We stop when n-k = 0, n = k\n",
    "\n",
    "T(n) = 5 * n + T(0) \n",
    "\n",
    "T(n) = 5n + 5\n",
    "\n",
    "* $T(n) = 5n + 5 \\le 10n$, for all n > 1. $T(n) \\in O(n)$\n",
    "\n",
    "* $T(n) = 5n + 5 \\ge n$, for all n > 1. $T(n) \\in \\Omega(n)$\n",
    "\n",
    "Therefore, $T(n) \\in \\Theta(n)$\n",
    "\n",
    "\n"
   ]
  },
  {
   "cell_type": "markdown",
   "metadata": {},
   "source": [
    "**Scratch space**:\n",
    "T(n-1) = 5 + T(n-2)\n",
    "T(n-2) = 5 + T(n-3)\n",
    "\n",
    "Use this for temporary work.\n",
    "\n"
   ]
  },
  {
   "cell_type": "markdown",
   "metadata": {},
   "source": [
    "-----------"
   ]
  },
  {
   "cell_type": "markdown",
   "metadata": {},
   "source": [
    "**Question 4  (15 points): Use the Master theorem to find the complexity of this function, $T(n) = n + 2 \\cdot T({n \\over 2})$.  You may assume that $T(1) = 1$. Show how to get to your answer.**"
   ]
  },
  {
   "cell_type": "markdown",
   "metadata": {},
   "source": [
    "ANSWER:\n",
    "T(n) = n + 2 * T(n/2)\n",
    "\n",
    "* a = 2\n",
    "* b = 2\n",
    "* d = 1\n",
    "\n",
    "* compare d with log_b a:\n",
    "    \n",
    "    $\\log_2 2 = 1 = d$\n",
    "\n",
    "Therefore, $T(n) \\in \\Theta(n log n)$\n",
    "\n"
   ]
  },
  {
   "cell_type": "markdown",
   "metadata": {},
   "source": [
    "-----------"
   ]
  },
  {
   "cell_type": "markdown",
   "metadata": {},
   "source": [
    "**Question 5  (15 points): Use the Master theorem to find the complexity of this function, $T(n) = n + 4 \\cdot T({n \\over 2})$.  You may assume that $T(1) = 1$.  Show how to get to your answer.**"
   ]
  },
  {
   "cell_type": "markdown",
   "metadata": {},
   "source": [
    "ANSWER:\n",
    "T(n) = n + 4 * T(n/2)\n",
    "\n",
    "* a = 4\n",
    "* b = 2\n",
    "* d = 1\n",
    "\n",
    "* compare d with log_b a:\n",
    "    \n",
    "    $\\log_2 4 = 2 > d =1$\n",
    "\n",
    "Therefore, $T(n) \\in \\Theta(n^2)$\n",
    "\n"
   ]
  },
  {
   "cell_type": "markdown",
   "metadata": {},
   "source": [
    "-----------"
   ]
  },
  {
   "cell_type": "markdown",
   "metadata": {},
   "source": [
    "**Question 6  (15 points): Use the Master theorem to find the complexity of this function, $T(n) = n^2 + 9 \\cdot T({n \\over 2})$.  You may assume that $T(1) = 1$.  Show how to get to your answer.**"
   ]
  },
  {
   "cell_type": "markdown",
   "metadata": {},
   "source": [
    "ANSWER:\n",
    "T(n) = n^2 + 9 * T(n/2)\n",
    "\n",
    "* a = 9\n",
    "* b = 2\n",
    "* d = 2\n",
    "\n",
    "* Compare d with log_b a:\n",
    "    \n",
    "    $\\log_2 9 > d = 2$\n",
    "\n",
    "Therefore, $T(n) \\in \\Theta(n ^ {\\log_2 9})$\n",
    "\n",
    "\n"
   ]
  },
  {
   "cell_type": "markdown",
   "metadata": {},
   "source": [
    "-----------"
   ]
  },
  {
   "cell_type": "markdown",
   "metadata": {},
   "source": [
    "**Question 7 (15 points): First, determine the running time function of the function.  Explain how you get the running time equation by giving estimates of the number of steps for each line of code.**\n",
    "\n",
    "**Second, use the Master theorem to find its complexity.**\n",
    "\n"
   ]
  },
  {
   "cell_type": "code",
   "execution_count": 4,
   "metadata": {},
   "outputs": [],
   "source": [
    "def prob7(L):\n",
    "    if len(L)==0:\n",
    "        return 0\n",
    "    s = 0\n",
    "    for x in L:\n",
    "        for y in L:\n",
    "            s += x*y\n",
    "    left = L[0: len(L)//2]\n",
    "    return prob7(left) + s"
   ]
  },
  {
   "cell_type": "markdown",
   "metadata": {},
   "source": [
    "ANSWER:\n",
    "* Line 2,3,4,8: constant c_1\n",
    "* Line 5 -7 : constant c_2 * n^2\n",
    "* Line 9: T(n/2)\n",
    "\n",
    "T(n) = c_1 + c_2 * n^2 + T(n/2)\n",
    "\n",
    "T(n) = n^2 + T(n/2)\n",
    "\n",
    "User the Master theorem:\n",
    "\n",
    "* a = 1\n",
    "* b = 2\n",
    "* d = 2\n",
    "\n",
    "* compaere d with log_b a:\n",
    "\n",
    "    $\\log_2 1 = 0 < d = 2$\n",
    "\n",
    "Therefore,$T(n) \\in \\Theta(n^2)$ \n",
    "\n",
    "\n",
    "\n"
   ]
  },
  {
   "cell_type": "code",
   "execution_count": null,
   "metadata": {},
   "outputs": [],
   "source": []
  }
 ],
 "metadata": {
  "kernelspec": {
   "display_name": "Python 3",
   "language": "python",
   "name": "python3"
  },
  "language_info": {
   "codemirror_mode": {
    "name": "ipython",
    "version": 3
   },
   "file_extension": ".py",
   "mimetype": "text/x-python",
   "name": "python",
   "nbconvert_exporter": "python",
   "pygments_lexer": "ipython3",
   "version": "3.8.3"
  }
 },
 "nbformat": 4,
 "nbformat_minor": 2
}

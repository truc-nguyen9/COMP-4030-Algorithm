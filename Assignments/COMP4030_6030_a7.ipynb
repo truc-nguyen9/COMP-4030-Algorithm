{
 "cells": [
  {
   "cell_type": "markdown",
   "metadata": {},
   "source": [
    "# COMP 4030/6030 Assignment 7\n",
    "### Due 11/12/2020"
   ]
  },
  {
   "cell_type": "markdown",
   "metadata": {},
   "source": [
    "### Name:  Truc Nguyen"
   ]
  },
  {
   "cell_type": "markdown",
   "metadata": {},
   "source": [
    "### Note:\n",
    "\n",
    "+ This work must be carried out by you.  \n",
    "\n",
    "+ Help on non-relevant aspects of the assignment is acceptable. If you receive help in any way, shape or form, you must explicitly acknolwedge it. \n",
    "\n",
    "+ Using work done by others without explicit citation is considered cheating.\n",
    "\n",
    "+ Put your name in the assignment file name.  Example:\n",
    "    + Original name: COMP4030_6030_a7.ipynb\n",
    "    + Your submission: **COMP4030_6030_a7_JohnSmith.ipynb**\n",
    "\n",
    "+ Upload your submission to eLearn.\n",
    "\n",
    "\n",
    "### Acknowledgement\n",
    "\n",
    "I have received help from these sources:\n",
    "* Khoa Nguyen"
   ]
  },
  {
   "cell_type": "markdown",
   "metadata": {},
   "source": [
    "### Review\n",
    "\n",
    "For problems 1, 2. and 3:\n",
    "* Discussion of the *knapsack* problem in the lecture note #18. \n",
    "\n",
    "* The previous assignment and its solution.\n",
    "\n",
    "For problems 4 and 5:\n",
    "* Review backtracking lecture(s) on how to generate sets using the backtracking technique.\n"
   ]
  },
  {
   "cell_type": "markdown",
   "metadata": {},
   "source": [
    "### Introduction\n",
    "\n",
    "In the following problems, **you'll solve a variant of the knapsack problem.**\n",
    "\n",
    "We have a knapsack or a bag with a given capacity.  We have a list of items (with values and weights). \n",
    "\n",
    "Question: What is the maximum value we can have (by packing items into the bag), subjected to the constraint that the total weight of the items does not exceed the capacity *and* that each item is used at most once?\n",
    "\n",
    "Example:\n",
    "```\n",
    "capacity is 22.\n",
    "items in the (value, weight) format: ($5, 5), ($7, 8), ($19, 11) \n",
    "```\n",
    "\n",
    "In this example the answer is 26, after taking the second and third items.  Note, we can only take the third item once.  There's still a space left but we can't fit more into the bag.\n",
    "\n",
    "We call this the *limited_knapsack* problem.\n"
   ]
  },
  {
   "cell_type": "markdown",
   "metadata": {},
   "source": [
    "Because of this restriction, we will formulate the problem with an intermediate step.\n",
    "\n",
    "We will define *knapsack_i(capacity, value_weight_pairs, i)* to be maximum amount you can bag into a bag with given capacity using items 0, 1, ..., i.   The value_weight_pairs input provides the value and weight of each item.\n",
    "\n",
    "For example, \n",
    "\n",
    "* *knapsack_i(2, [(5,5),(7,8),(19,11)], 0)* should return 0\n",
    "* *knapsack_i(5, [(5,5),(7,8),(19,11)], 0)* should return 5\n",
    "* *knapsack_i(8, [(5,5),(7,8),(19,11)], 1)* should return 7\n",
    "* *knapsack_i(10, [(5,5),(7,8),(19,11)], 2)* should return 7\n",
    "* *knapsack_i(13, [(5,5),(7,8),(19,11)], 2)* should return 19\n",
    "* *knapsack_i(20, [(5,5),(7,8),(19,11)], 2)* should return 26\n",
    "\n"
   ]
  },
  {
   "cell_type": "markdown",
   "metadata": {},
   "source": [
    "**Problem 1**\n",
    "\n",
    "We now analyze the possibilities for solving *knapsack_i(capacity, value_weight_pairs, i)*, by consider whether to use the item i when packing optimally.\n",
    "\n",
    "What are the only two choices or possibilities for this consideration?\n",
    "\n",
    "\n",
    "Write your answer below."
   ]
  },
  {
   "cell_type": "markdown",
   "metadata": {},
   "source": [
    "ANSWER:\n",
    "taking weight at index i or not taking weight at index i\n",
    "\n",
    "\n",
    "\n",
    "\n"
   ]
  },
  {
   "cell_type": "markdown",
   "metadata": {},
   "source": [
    "**Problem 2**\n",
    "\n",
    "Use your analysis of possibilities in the previous problem to complete the implementation of *knapsack_i*.  Your Python code must also take care of additional \"details\" to ensure that it correctly solve the problems for all values of i.\n"
   ]
  },
  {
   "cell_type": "code",
   "execution_count": 1,
   "metadata": {},
   "outputs": [],
   "source": [
    "# YOUR ANSWER\n",
    "\n",
    "def knapsack_i(capacity, value_weight_pairs, i):\n",
    "    outcome = [0]\n",
    "    \n",
    "    (value,weight) = value_weight_pairs[i]\n",
    "    \n",
    "    if i == 0:\n",
    "        if capacity < weight:\n",
    "            return 0\n",
    "        return value\n",
    "    \n",
    "    if capacity >= weight:\n",
    "        v = value + knapsack_i(capacity - weight,value_weight_pairs,i-1)\n",
    "        outcome.append(v)\n",
    "    else:\n",
    "        v = 0 + knapsack_i(capacity, value_weight_pairs, i-1)\n",
    "        outcome.append(v)\n",
    "        \n",
    "    return max(outcome) "
   ]
  },
  {
   "cell_type": "markdown",
   "metadata": {},
   "source": [
    "**Question 3**\n",
    "\n",
    "*knapsack_i* is exponentially slow if recursive computations are not saved.\n",
    "\n",
    "To save computation using a Table, which is a dictionary, we have to identify what the keys and values of the Table are.\n",
    "\n",
    "Rewrite *knapsack_i* using a table to store recursive computation."
   ]
  },
  {
   "cell_type": "code",
   "execution_count": 493,
   "metadata": {},
   "outputs": [],
   "source": [
    "# YOUR ANSWER\n",
    "\n",
    "\n",
    "Table = {}\n",
    "\n",
    "def knapsack_ii(capacity, value_weight_pairs, i):\n",
    "    outcome = [0]\n",
    "    \n",
    "    for (capacity,i) in Table:\n",
    "        return Table[(capacity,i)]\n",
    "\n",
    "    (value, weight) = value_weight_pairs[i]\n",
    "    \n",
    "    if i == 0:\n",
    "        if capacity < weight:\n",
    "            Table[(capacity,i)] = 0\n",
    "            return 0\n",
    "        Table[(capacity,i)] = value\n",
    "        return value\n",
    "    if capacity >= weight:\n",
    "        v = value + knapsack_ii(capacity - weight, value_weight_pairs, i - 1)\n",
    "        outcome.append(v)\n",
    "    else:\n",
    "        v = 0 + knapsack_ii(capacity, value_weight_pairs, i - 1)\n",
    "        outcome.append(v)\n",
    "    m = max(outcome)\n",
    "    Table[(capacity,i)] = m\n",
    "\n",
    "    return m"
   ]
  },
  {
   "cell_type": "markdown",
   "metadata": {},
   "source": [
    "# Looking for communities with desirable properties\n",
    "\n",
    "Given a social network, a community is any group of $k$ nodes that satisfy a certain property.\n",
    "\n",
    "Below is some code that generates a randomly colored graph and draws graphs.  You can use it to test your code.\n"
   ]
  },
  {
   "cell_type": "code",
   "execution_count": 25,
   "metadata": {},
   "outputs": [],
   "source": [
    "import networkx as nx\n",
    "from matplotlib import pyplot\n",
    "import random\n",
    "\n",
    "def randomly_colored_graph(n, pair_prob=0.5, color_prob=0.25):\n",
    "    G = nx.Graph()\n",
    "    for i in range(n):\n",
    "        if random.random() < color_prob:\n",
    "            G.add_node(i, color='red')\n",
    "        else:\n",
    "            G.add_node(i, color='white')\n",
    "    for i in range(n):\n",
    "        for j in range(i+1,n):\n",
    "            if random.random() < pair_prob:\n",
    "                G.add_edge(i,j)\n",
    "    return G\n",
    "\n",
    "def draw_graph(G):\n",
    "    nx.draw(\n",
    "        G, \n",
    "        with_labels=True, \n",
    "        node_color=[ G.nodes[i]['color'] for i in G.nodes ],\n",
    "    )"
   ]
  },
  {
   "cell_type": "code",
   "execution_count": 26,
   "metadata": {},
   "outputs": [
    {
     "name": "stdout",
     "output_type": "stream",
     "text": [
      "0 white\n",
      "1 white\n",
      "2 red\n",
      "3 white\n",
      "4 red\n",
      "5 white\n"
     ]
    },
    {
     "data": {
      "image/png": "[encoded data removed]",
      "text/plain": [
       "<Figure size 432x288 with 1 Axes>"
      ]
     },
     "metadata": {},
     "output_type": "display_data"
    }
   ],
   "source": [
    "# Example:\n",
    "G = randomly_colored_graph(6, pair_prob=0.3, color_prob=0.2)\n",
    "draw_graph(G)\n",
    "for i in G.nodes:\n",
    "    print(i, G.nodes[i]['color'])"
   ]
  },
  {
   "cell_type": "markdown",
   "metadata": {},
   "source": [
    "**Problem 4**\n",
    "\n",
    "In this problem, we are interested in generating all communities with density greater than $\\alpha$.\n",
    "\n",
    "The density of a community is a quantity that captures how connected a community is.  There are different ways to quantify this value.\n",
    "\n",
    "For this assignment, we define the density of a community with $k$ nodes and $e$ edges as ${2 * e \\over k(k-1)}$.  This value is between 0 and 1.  When the density is 0, there are no edges in the community. When the density is 1, the community has the maximum number of edges.\n",
    "\n",
    "Use backtracking to implement a function called *dense_communities* that generates all communities in a graph with density greater than a parameter $\\alpha$."
   ]
  },
  {
   "cell_type": "code",
   "execution_count": 80,
   "metadata": {},
   "outputs": [],
   "source": [
    "def get_set(boolean_list):\n",
    "    output = set()\n",
    "    for i in range(len(boolean_list)):\n",
    "        if boolean_list[i]==True:\n",
    "            output.add(i)\n",
    "    return output\n",
    "\n",
    "def density(a_solution, G):\n",
    "    nodes = list(get_set(a_solution))\n",
    "    print(nodes)\n",
    "    count = 0\n",
    "    for i in range(len(nodes)):\n",
    "        for j in range(i+1, len(nodes)):\n",
    "            u, v = nodes[i], nodes[j]\n",
    "            if (u,v) in G.edges:\n",
    "                count += 1\n",
    "    if len(nodes) < 2:\n",
    "        return 0\n",
    "    else:\n",
    "        return  2 * count / (len(nodes)*(len(nodes)-1))\n",
    "\n",
    "def community_at_level(solution, i):\n",
    "    if i==len(solution):\n",
    "        # we have a complete solution.\n",
    "        print(get_set(solution))\n",
    "    else:\n",
    "        # we're still constructing solution.\n",
    "        for p in [True, False]:\n",
    "            solution[i] = p\n",
    "            community_at_level(solution, i+1)\n",
    "\n",
    "solution = [None] * len(G.nodes)\n",
    "# community_at_level(solution, 0)\n",
    "        "
   ]
  },
  {
   "cell_type": "code",
   "execution_count": 104,
   "metadata": {},
   "outputs": [],
   "source": [
    "def dense_communities(G,alpha):\n",
    "    def get_set(boolean_list):\n",
    "        output = set()\n",
    "        for i in range(len(boolean_list)):\n",
    "            if boolean_list[i]==True:\n",
    "                output.add(i)\n",
    "        return output\n",
    "\n",
    "    def community_at_level(solution, i):\n",
    "        if i==len(solution):\n",
    "            # we have a complete solution.  \n",
    "            # Make sure the density of this comminity is dense.\n",
    "            if density(solution,G) > alpha:\n",
    "                nodes = get_set(solution)\n",
    "                print(nodes)\n",
    "        else:\n",
    "            # we're still constructing solution.\n",
    "            for p in [True, False]:\n",
    "                solution[i] = p\n",
    "                community_at_level(solution, i+1)\n",
    "\n",
    "    solution = [None] * len(G.nodes)    \n",
    "    community_at_level(solution, 0)"
   ]
  },
  {
   "cell_type": "code",
   "execution_count": 106,
   "metadata": {},
   "outputs": [
    {
     "name": "stdout",
     "output_type": "stream",
     "text": [
      "{0, 1, 2, 4, 5}\n",
      "{0, 1, 2, 4}\n",
      "{0, 1, 2, 5}\n",
      "{0, 1, 2}\n",
      "{0, 1, 4, 5}\n",
      "{0, 1, 4}\n",
      "{0, 1, 5}\n",
      "{0, 2, 5}\n",
      "{1, 2, 3, 4, 5}\n",
      "{1, 2, 3, 4}\n",
      "{1, 2, 3, 5}\n",
      "{1, 2, 3}\n",
      "{1, 2, 4, 5}\n",
      "{1, 2, 4}\n",
      "{1, 2, 5}\n",
      "{1, 2}\n",
      "{1, 3, 4, 5}\n",
      "{1, 3, 4}\n",
      "{1, 3, 5}\n",
      "{1, 4, 5}\n",
      "{1, 4}\n",
      "{1, 5}\n",
      "{2, 3, 5}\n",
      "{2, 4, 5}\n",
      "{2, 5}\n"
     ]
    }
   ],
   "source": [
    "dense_communities(G,0.3)"
   ]
  },
  {
   "cell_type": "markdown",
   "metadata": {},
   "source": [
    "**Problem 5**\n",
    "\n",
    "Use backtracking to implement a function called *dense_red_communities* that generates all communities with density greater than $\\alpha$ and more than $r$ percent of red colors.\n",
    "\n",
    "(This problem is simply an abstraction of applications, in which a \"red\" node can be any characteristic that we want to detect in the communities.)"
   ]
  },
  {
   "cell_type": "code",
   "execution_count": 110,
   "metadata": {},
   "outputs": [],
   "source": [
    "def get_set(boolean_list):\n",
    "    output = set()\n",
    "    for i in range(len(boolean_list)):\n",
    "        if boolean_list[i]==True:\n",
    "            output.add(i)\n",
    "    return output\n",
    "\n",
    "def density(a_solution, G):\n",
    "    nodes = list(get_set(a_solution))\n",
    "    count = 0\n",
    "    for i in range(len(nodes)):\n",
    "        for j in range(i+1, len(nodes)):\n",
    "            u, v = nodes[i], nodes[j]\n",
    "            if (u,v) in G.edges:\n",
    "                count += 1\n",
    "    if len(nodes) < 2:\n",
    "        return 0\n",
    "    else:\n",
    "        return  2 * count / (len(nodes)*(len(nodes)-1))\n",
    "def percent_red(a_solution,G):\n",
    "    total_red = 0\n",
    "    for i in G.nodes:\n",
    "        if G.nodes[i]['color'] == 'red':\n",
    "            total_red += 1\n",
    "    list_nodes = list(get_set(a_solution))\n",
    "    red_count = 0\n",
    "    for i in list_nodes:\n",
    "        if G.nodes[i]['color'] == 'red':\n",
    "            red_count += 1\n",
    "    if total_red == 0:\n",
    "        return 0\n",
    "    else:\n",
    "        return red_count * 100/ total_red\n",
    "\n",
    "def community_at_level(solution, i):\n",
    "    if i==len(solution):\n",
    "        # we have a complete solution.\n",
    "        print(get_set(solution))\n",
    "    else:\n",
    "        # we're still constructing solution.\n",
    "        for p in [True, False]:\n",
    "            solution[i] = p\n",
    "            community_at_level(solution, i+1)\n",
    "\n",
    "solution = [None] * len(G.nodes)\n",
    "# community_at_level(solution, 0)\n",
    "        "
   ]
  },
  {
   "cell_type": "code",
   "execution_count": 111,
   "metadata": {},
   "outputs": [],
   "source": [
    "\n",
    "\n",
    "def dense_red_communities(G, alpha, r):\n",
    "    # your back_tracking procedure goes in here.\n",
    "    def get_set(boolean_list):\n",
    "        output = set()\n",
    "        for i in range(len(boolean_list)):\n",
    "            if boolean_list[i]==True:\n",
    "                output.add(i)\n",
    "        return output\n",
    "\n",
    "    def community_at_level(solution, i):\n",
    "        if i==len(solution):\n",
    "            # we have a complete solution.  \n",
    "            # Make sure the density of this comminity is dense.\n",
    "            if density(solution,G) > alpha and percent_red(solution,G) > r:\n",
    "                nodes = get_set(solution)\n",
    "                print(nodes)\n",
    "        else:\n",
    "            # we're still constructing solution.\n",
    "            for p in [True, False]:\n",
    "                solution[i] = p\n",
    "                community_at_level(solution, i+1)\n",
    "\n",
    "    solution = [None] * len(G.nodes)    \n",
    "    community_at_level(solution, 0)"
   ]
  },
  {
   "cell_type": "code",
   "execution_count": 112,
   "metadata": {},
   "outputs": [
    {
     "name": "stdout",
     "output_type": "stream",
     "text": [
      "{0, 1, 2, 4, 5}\n",
      "{0, 1, 2, 4}\n",
      "{0, 1, 2, 5}\n",
      "{0, 1, 2}\n",
      "{0, 1, 4, 5}\n",
      "{0, 1, 4}\n",
      "{0, 2, 5}\n",
      "{1, 2, 3, 4, 5}\n",
      "{1, 2, 3, 4}\n",
      "{1, 2, 3, 5}\n",
      "{1, 2, 3}\n",
      "{1, 2, 4, 5}\n",
      "{1, 2, 4}\n",
      "{1, 2, 5}\n",
      "{1, 2}\n",
      "{1, 3, 4, 5}\n",
      "{1, 3, 4}\n",
      "{1, 4, 5}\n",
      "{1, 4}\n",
      "{2, 3, 5}\n",
      "{2, 4, 5}\n",
      "{2, 5}\n"
     ]
    }
   ],
   "source": [
    "dense_red_communities(G, 0.3,40)"
   ]
  }
 ],
 "metadata": {
  "kernelspec": {
   "display_name": "Python 3 (ipykernel)",
   "language": "python",
   "name": "python3"
  },
  "language_info": {
   "codemirror_mode": {
    "name": "ipython",
    "version": 3
   },
   "file_extension": ".py",
   "mimetype": "text/x-python",
   "name": "python",
   "nbconvert_exporter": "python",
   "pygments_lexer": "ipython3",
   "version": "3.8.10"
  }
 },
 "nbformat": 4,
 "nbformat_minor": 4
}

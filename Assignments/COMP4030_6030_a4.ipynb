{
 "cells": [
  {
   "cell_type": "markdown",
   "metadata": {},
   "source": [
    "# COMP 4030/6030 Assignment 4\n",
    "### Due 10/20/2020"
   ]
  },
  {
   "cell_type": "markdown",
   "metadata": {},
   "source": [
    "### Name:  Truc Nguyen"
   ]
  },
  {
   "cell_type": "markdown",
   "metadata": {},
   "source": [
    "### Note:\n",
    "\n",
    "+ This work must be carried out by you.  \n",
    "\n",
    "+ Help on non-relevant aspects of the assignment is acceptable. If you receive help in any way, shape or form, you must explicitly acknolwedge it. \n",
    "\n",
    "+ Using work done by others without explicit citation is considered cheating.\n",
    "\n",
    "+ Put your name in the assignment file name.  Example:\n",
    "    + Original name: COMP4030_6030_a4.ipynb\n",
    "    + Your submission: **COMP4030_6030_a4_JohnSmith.ipynb**\n",
    "\n",
    "+ Upload your submission to eLearn.\n",
    "\n",
    "\n",
    "### Acknowledgement\n",
    "\n",
    "I have received help from these sources:\n",
    "* tba"
   ]
  },
  {
   "cell_type": "markdown",
   "metadata": {},
   "source": [
    "**Question 1 (30 Points)**\n",
    "\n",
    "In the two algorithms below,\n",
    "\n",
    "+ *split5* takes as input a list of length $n$ and returns 5 lists, each of length ${n \\over 2}$. Its complexity is $\\Theta(n)$.\n",
    "\n",
    "+ *split3* takes as input a list of length $n$ and returns 3 lists, each of length ${n \\over 2}$. Its complexity is $\\Theta(n^2)$.\n",
    "\n",
    "Between *prob_1A* and *prob_1B*, which one is faster for large input sizes?  Explain your answer. Hint: use the master theorem."
   ]
  },
  {
   "cell_type": "code",
   "execution_count": 26,
   "metadata": {},
   "outputs": [],
   "source": [
    "def prob_1A(L):\n",
    "    if len(L) <= 5:\n",
    "        return 0\n",
    "    L1, L2, L3, L4, L5 = split5(L)\n",
    "    return prob_1A(L1) + prob_1A(L2) + prob_1A(L3) + prob_1A(L4) + prob_1A(L5)\n",
    "\n",
    "def prob_1B(L):\n",
    "    if len(L) <= 3:\n",
    "        return 1\n",
    "    s = 0\n",
    "    for x in L:\n",
    "        for y in L:\n",
    "            s += x*y\n",
    "    L1, L2, L3 = split3(L)\n",
    "    return s + prob_1B(L1) + prob_1B(L2) + prob_1B(L3)\n"
   ]
  },
  {
   "cell_type": "markdown",
   "metadata": {},
   "source": [
    "ANSWER and EXPLANATION:\n",
    "\n",
    "The function prob_1A:\n",
    "$T(n) = c_1 + c_2*n + T(n/2) + T(n/2) + T(n/2) + T(n/2) + T(n/2)$\n",
    "\n",
    "$T(n) = c*n + 5T(n/2)$\n",
    "* the master theorem: \n",
    "    * d = 1 compare with log_b a = log_2 5\n",
    "    * log_2 5 > 1 = d\n",
    "     \n",
    "     Therefor, $T(n) \\in \\Theta(n^{log_2 5})$ (1)\n",
    "\n",
    "The function prob_1B:\n",
    "$T(n) = c_1 + c_2*n^2 + c_3*n^2 + T(n/2) + T(n/2) + T(n/2)$\n",
    "\n",
    "$T(n) = c*n^2 + 3T(n/2)$\n",
    "* The master theorem:\n",
    "    * d = 2 compare with log_b a = log_2 3\n",
    "    * log_2 3 < log_2 4 = 2 = d\n",
    "    \n",
    "    Therefore, $T(n) \\in \\Theta(n^2)$ (2)\n",
    "    \n",
    "(1),(2) we compare $\\Theta(n^{log_2 5})$ of function prob_1A with $\\Theta(n^2)$ of function prob_1B : $log_2 5 > log_2 4 = 2$\n",
    "\n",
    "Therefore, prob_1B is faster than prob_1A\n",
    "     \n",
    "\n"
   ]
  },
  {
   "cell_type": "markdown",
   "metadata": {},
   "source": [
    "-----------"
   ]
  },
  {
   "cell_type": "markdown",
   "metadata": {},
   "source": [
    "**Question 2 (30 Points)**\n",
    "\n",
    "A ternary tree has three branches: left, right, and middle. Class RTree -- as defined below -- creates a ternary tree of a given depth.  Each node of the tree has a random color, which is either red or blue.\n",
    "\n",
    "Your task is to design a Python function that counts the number of red nodes in an RTree of given depth.\n",
    "\n",
    "You should not modify the code of RTree.  You should add your code to *count_red_nodes*, which takes as input an RTree.\n",
    "\n",
    "For debugging purposes, you have access to a global variable called *red_count*.  Before a random tree is created, set it to 0.  After the tree is created, this variable tells how many red nodes the tree has.\n",
    "\n",
    "\n",
    "**Hint**: think of a divide and conquer, recursive strategy. ``The number of red nodes in a tree t is equal to...\"   \n",
    "\n",
    "Describe the number of red nodes in t in terms of the number of red nodes in the left and in the right subtrees."
   ]
  },
  {
   "cell_type": "code",
   "execution_count": 154,
   "metadata": {},
   "outputs": [],
   "source": [
    "import random\n",
    "\n",
    "# this variable is for debugging purposes only\n",
    "red_count = 0   \n",
    "\n",
    "# This is random ternary.\n",
    "class RTree:\n",
    "    def __init__(self, depth=0):\n",
    "        self.color = 'red' if random.randint(0,1) == 0 else 'blue'\n",
    "        self.left = None\n",
    "        self.right = None\n",
    "        self.middle = None\n",
    "        if depth > 0:\n",
    "            self.left = RTree(depth-1)\n",
    "            self.right = RTree(depth-1)\n",
    "            self.middle = RTree(depth-1)\n",
    "        \n",
    "        global red_count\n",
    "        if self.color == 'red':\n",
    "            red_count += 1\n"
   ]
  },
  {
   "cell_type": "code",
   "execution_count": 155,
   "metadata": {
    "scrolled": true
   },
   "outputs": [
    {
     "name": "stdout",
     "output_type": "stream",
     "text": [
      "red\n",
      "red\n",
      "blue\n",
      "red\n",
      "t has 3 red nodes.\n"
     ]
    }
   ],
   "source": [
    "red_count = 0\n",
    "t = RTree(1)\n",
    "print(t.color)\n",
    "print(t.left.color)\n",
    "print(t.right.color)\n",
    "print(t.middle.color)\n",
    "print('t has', red_count, 'red nodes.')"
   ]
  },
  {
   "cell_type": "code",
   "execution_count": 157,
   "metadata": {},
   "outputs": [],
   "source": [
    "#\n",
    "# Input: a_tree is a random RTree.\n",
    "# Output: the number of red nodes in a_tree\n",
    "# Note: your code must not access the global variable red_count, which is for debugging purposes only.\n",
    "#\n",
    "def count_red_nodes(a_tree):\n",
    "    # modify this\n",
    "    if a_tree == None:\n",
    "        return 0\n",
    "    if a_tree.color == 'red':\n",
    "        return 1 + count_red_nodes(a_tree.left) + count_red_nodes(a_tree.right) + count_red_nodes(a_tree.middle)\n",
    "    \n",
    "    return count_red_nodes(a_tree.left) + count_red_nodes(a_tree.right) + count_red_nodes(a_tree.middle)"
   ]
  },
  {
   "cell_type": "code",
   "execution_count": 158,
   "metadata": {},
   "outputs": [
    {
     "name": "stdout",
     "output_type": "stream",
     "text": [
      "The number of red nodes counted is 3\n"
     ]
    }
   ],
   "source": [
    "\n",
    "print('The number of red nodes counted is', count_red_nodes(t))\n"
   ]
  },
  {
   "cell_type": "markdown",
   "metadata": {},
   "source": [
    "-----------"
   ]
  },
  {
   "cell_type": "markdown",
   "metadata": {},
   "source": [
    "**Question 3 (30 Points)**\n",
    "\n",
    "\n",
    "**Background**:\n",
    "\n",
    "Class vote creates vote objects.  A vote is either a blue vote, a red vote, or a purple. This information is stored in the \"value\" attribute.\n",
    "\n",
    "The function *Poll* returns a list of random votes.  In the code below, *some_poll* is a list of 32 random votes.\n",
    "\n",
    "```\n",
    "some_poll = Poll(32)\n",
    "```\n",
    "\n",
    "\n"
   ]
  },
  {
   "cell_type": "code",
   "execution_count": 2,
   "metadata": {},
   "outputs": [],
   "source": [
    "import random\n",
    "\n",
    "\n",
    "#-----------------------------------------------------\n",
    "# \n",
    "# Return a list of n random votes\n",
    "#\n",
    "#-----------------------------------------------------\n",
    "def Poll(n=16):\n",
    "    #\n",
    "    # A random vote, if value is not specified.  Value can be either 'red', 'blue', or 'purple'\n",
    "    #\n",
    "    class Vote:\n",
    "        def __init__(self, value=None):\n",
    "            if value is None:\n",
    "                r = random.random()\n",
    "                if 0 <= r < 0.45:\n",
    "                    self.value = 'red' \n",
    "                elif 0.45 <= r < 0.9:\n",
    "                    self.value = 'blue'\n",
    "                else:\n",
    "                    self.value = 'purple'\n",
    "            else:\n",
    "                if value not in ('red','blue','purple'):\n",
    "                    raise Exception('Invalid vote: ' + value)\n",
    "                self.value = value\n",
    "\n",
    "        def __eq__(self, b):\n",
    "            return self.value == b.value\n",
    "\n",
    "        def __str__(self):\n",
    "            return self.value\n",
    "    return [ Vote() for i in range(n) ]\n",
    "\n",
    "#-----------------------------------------------------\n",
    "\n"
   ]
  },
  {
   "cell_type": "code",
   "execution_count": 163,
   "metadata": {},
   "outputs": [
    {
     "name": "stdout",
     "output_type": "stream",
     "text": [
      "blue True\n",
      "red False\n",
      "red False\n",
      "blue True\n",
      "blue True\n",
      "red False\n",
      "blue True\n",
      "blue True\n",
      "red False\n",
      "red False\n"
     ]
    }
   ],
   "source": [
    "# \n",
    "#  Example of usage\n",
    "#\n",
    "a_poll = Poll(10)\n",
    "first_vote = a_poll[0]\n",
    "for v in a_poll:\n",
    "    print(v, v == first_vote)\n",
    "    \n",
    "    "
   ]
  },
  {
   "cell_type": "markdown",
   "metadata": {},
   "source": [
    "**Your Task**\n",
    "\n",
    "Your task is to modify *find_winner* to return the winner in a poll, if there is one.\n",
    "\n",
    "* A winner of a poll is a color that occurs more than 50%.\n",
    "\n",
    "* If all colors occur less than 50%, there's no winner, and *find_winner* returns None.\n",
    "\n",
    "* find_winner should run in $\\Theta(n^2)$, where $n$ is the number of votes in a_poll.\n",
    "\n",
    "\n",
    "**Note**\n",
    "\n",
    "+ **You can store votes, but cannot directly create a vote.**\n",
    "+ **You can compare two votes using equality.  See example of usage.**\n"
   ]
  },
  {
   "cell_type": "code",
   "execution_count": 164,
   "metadata": {},
   "outputs": [],
   "source": [
    "\n",
    "# Input: a poll (which is a list of votes)\n",
    "# Output: a winner vote or None\n",
    "def find_winner(a_poll):\n",
    "    # Add your code here\n",
    "    count_red = 0\n",
    "    count_blue = 0\n",
    "    count_purple = 0\n",
    "    \n",
    "    for i in a_poll:\n",
    "        if i.value == 'red':\n",
    "            count_red += 1\n",
    "        elif i.value == 'blue':\n",
    "            count_blue += 1\n",
    "        else:\n",
    "            count_purple += 1\n",
    "            \n",
    "    if count_red/len(a_poll) > 0.5:\n",
    "        return 'red is winner'\n",
    "    if count_blue/len(a_poll) > 0.5:\n",
    "        return 'blue is winner'\n",
    "    if count_purple/len(a_poll) > 0.5:\n",
    "        return 'purple is winner'\n",
    "    \n",
    "    return None"
   ]
  },
  {
   "cell_type": "code",
   "execution_count": 167,
   "metadata": {},
   "outputs": [],
   "source": [
    "find_winner(a_poll)"
   ]
  },
  {
   "cell_type": "markdown",
   "metadata": {},
   "source": [
    "**Problem 4 (10 Points)**\n",
    "\n",
    "Your task is to modify *find_winner_fast* so that it can correctly find a winner (if there is one) in time $\\Theta(n \\log n)$.\n",
    "\n",
    "**Hint**: suppose that w1 is the winner of half of the votes, and w2 is the winner of the other half of the votes.  Will knowing w1 and w2 help you determine the winner of all the votes?\n",
    "\n",
    "* If w1 is equal to w2, who would be the winner of all votes?\n",
    "\n",
    "* If w1 is not equal to w2, how would you find the winner?  Is the winner w1 or w2?  Can it be someone else?\n",
    "\n",
    "**Note**\n",
    "\n",
    "+ **You can store votes, but cannot directly create a vote.**\n",
    "+ **You can compare two votes using equality.  See example of usage.**\n"
   ]
  },
  {
   "cell_type": "markdown",
   "metadata": {},
   "source": [
    "### Thinking about the recursive design\n",
    "\n",
    "a_poll = [     left.       ][       right       ]   100 votes (n votes)\n",
    "              50                    50\n",
    "              \n",
    "blue is the winner on left.  This means blue must have at least 25 votes on left. \n",
    "\n",
    "blue is the winner on right.  This means blue must also have at least 25 votes on right.\n",
    "\n",
    "Altogether, blue must have at least 50 votes on both left and right. This means blue is the winner over all.\n",
    "\n"
   ]
  },
  {
   "cell_type": "code",
   "execution_count": 149,
   "metadata": {},
   "outputs": [],
   "source": [
    "\n",
    "def find_winner_fast(a_poll):\n",
    "    # Add your code here\n",
    "   \n",
    "    w1 = \"\"\n",
    "    w2 = \"\"\n",
    "\n",
    "    if len(a_poll) == 0:\n",
    "        return \"no one\"\n",
    "    if len(a_poll) == 1:\n",
    "        return a_poll[0]\n",
    "\n",
    "    mid = len(a_poll) // 2\n",
    "    # print(\"mid \" + str(mid))\n",
    "    w1 = find_winner_fast(a_poll[0:mid])\n",
    "    w2 = find_winner_fast(a_poll[mid:])\n",
    "    if w1.value == \"no one\":\n",
    "        return w2\n",
    "    if w1 == w2:\n",
    "        return w1.value\n",
    "    else:\n",
    "        w1.value = \"no one\"\n",
    "        return find_winner_fast(a_poll[mid:])"
   ]
  },
  {
   "cell_type": "code",
   "execution_count": 150,
   "metadata": {},
   "outputs": [
    {
     "data": {
      "text/plain": [
       "'red'"
      ]
     },
     "execution_count": 150,
     "metadata": {},
     "output_type": "execute_result"
    }
   ],
   "source": [
    "find_winner_fast(a_poll)"
   ]
  }
 ],
 "metadata": {
  "kernelspec": {
   "display_name": "Python 3 (ipykernel)",
   "language": "python",
   "name": "python3"
  },
  "language_info": {
   "codemirror_mode": {
    "name": "ipython",
    "version": 3
   },
   "file_extension": ".py",
   "mimetype": "text/x-python",
   "name": "python",
   "nbconvert_exporter": "python",
   "pygments_lexer": "ipython3",
   "version": "3.8.10"
  }
 },
 "nbformat": 4,
 "nbformat_minor": 4
}

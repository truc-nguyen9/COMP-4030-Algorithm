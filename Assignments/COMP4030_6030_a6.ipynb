{
 "cells": [
  {
   "cell_type": "markdown",
   "metadata": {},
   "source": [
    "# COMP 4030/6030 Assignment 6\n",
    "### Due 11/05/2020"
   ]
  },
  {
   "cell_type": "markdown",
   "metadata": {},
   "source": [
    "### Name:  Truc Nguyen"
   ]
  },
  {
   "cell_type": "markdown",
   "metadata": {},
   "source": [
    "### Note:\n",
    "\n",
    "+ This work must be carried out by you.  \n",
    "\n",
    "+ Help on non-relevant aspects of the assignment is acceptable. If you receive help in any way, shape or form, you must explicitly acknolwedge it. \n",
    "\n",
    "+ Using work done by others without explicit citation is considered cheating.\n",
    "\n",
    "+ Put your name in the assignment file name.  Example:\n",
    "    + Original name: COMP4030_6030_a6.ipynb\n",
    "    + Your submission: **COMP4030_6030_a6_JohnSmith.ipynb**\n",
    "\n",
    "+ Upload your submission to eLearn.\n",
    "\n",
    "\n",
    "### Acknowledgement\n",
    "\n",
    "I have received help from these sources:\n",
    "* tba"
   ]
  },
  {
   "cell_type": "markdown",
   "metadata": {},
   "source": [
    "### Introduction\n",
    "\n",
    "First, review the original *make_change* problem in the lecture note(s).\n",
    "\n",
    "In the following problems, **you'll solve a variant of the coin changing problem we discussed in class.**\n",
    "\n",
    "\n",
    "We call this the *limited_make_change* problem.\n",
    "\n",
    "The input of the problem is an *amount* and a list of *coins* from which to make change for the *amount*.  Each given coin in the list is used at most once.  You can't use a coin in the list more than once.\n",
    "\n",
    "For example, given the coins [3, 3, 5, 7, 14], it is possible to make change for 20 (with 3, 3, and 14), but not for 9."
   ]
  },
  {
   "cell_type": "markdown",
   "metadata": {},
   "source": [
    "Because of this restriction, we will formulate the problem with an intermediate step.\n",
    "\n",
    "We will define *make_change_up_to_i(amount, coins, i)* to be True if it is possible to make change evenly for *amount* using coins[0], coins[1], ..., coins[i].  If it is not possible to use these coins, the answer is False.\n",
    "\n",
    "For example, *make_change_up_to_i(6, [3, 3, 5, 7, 14], 0)* is False because it is not possible to make change evenly for 6 with only coins[0] (or 3).\n",
    "\n",
    "Here are more examples:\n",
    "* *make_change_up_to_i(8, [3, 3, 5, 7, 14], 2)* is True because it is possible to mkae change for 8 using coins 3, 3, 5.\n",
    "\n",
    "* *make_change_up_to_i(10, [3, 3, 5, 7, 14], 3)* is True ecause it is possible to make change for 10 using coins 3, 3, 5, 7.\n",
    "\n",
    "* *make_change_up_to_i(19, [3, 3, 5, 7, 14], 3)* is False ecause it is not possible to make change for 19 using coins 3, 3, 5, 7.\n",
    "\n",
    "* *make_change_up_to_i(19, [3, 3, 5, 7, 14], 4)* is True because it is not possible to make change for 19 using coins 3, 3, 5, 7, 14.\n"
   ]
  },
  {
   "cell_type": "markdown",
   "metadata": {},
   "source": [
    "**Problem 1**\n",
    "\n",
    "We now analyze the possibilities for solving *make_change(amount, coins, i)*, by consider whether to use the coins[i] in the change making.\n",
    "\n",
    "There are only two choices or possibilities: taking coins[i] or not taking coins[i].\n",
    "\n",
    "Consider a specific example: *make_change_up_to_i(40, [a, b, c, d, 10], 4)*\n",
    "\n",
    "Here, the first 4 items can be anything. We don't care what they are because we focus on coins[4], which is 10.\n",
    "\n",
    "Considering this coin, there are two choices: taking it or not taking it.\n",
    "\n",
    "Suppose we know that the correct choice is \"taking the coin 10\" (to make change for 40), **what is the resulting subproblem for making this choice of taking 10?**\n",
    "\n",
    "Another way of asking this question is, after 10 is taken to make change for 40, what is the remaining problem that you have to solve?\n",
    "\n",
    "Write your answer below."
   ]
  },
  {
   "cell_type": "markdown",
   "metadata": {},
   "source": [
    "ANSWER:\n",
    "\n",
    "make_change_up_to_i(30,[a,b,c,d],3)\n",
    "\n",
    "\n",
    "\n"
   ]
  },
  {
   "cell_type": "markdown",
   "metadata": {},
   "source": [
    "**Problem 2**\n",
    "\n",
    "Continuing from the previous problem of solving *make_change_up_to_i(40, [a, b, c, d, 10], 4)*.\n",
    "\n",
    "Suppose we know that the correct choice is \"not taking 10\" to make change for 40, **what is the resulting subproblem for making this choice?**\n",
    "\n",
    "Another way of asking this question is, if we do not use the coin 10 to make change for 40, what is the remaining problem that you have to solve?\n",
    "\n",
    "Write your answer below.\n"
   ]
  },
  {
   "cell_type": "markdown",
   "metadata": {},
   "source": [
    "ANSWER:\n",
    "\n",
    "make_change_up_to_i(40,[a,b,c,d],3)\n",
    "\n",
    "\n",
    "\n"
   ]
  },
  {
   "cell_type": "markdown",
   "metadata": {},
   "source": [
    "**Problem 3**\n",
    "\n",
    "From your answers of the previous problems, write down the logical for computing make_change(amount, coins, i), for i>=0.\n",
    "\n",
    "Note: review how we translate the other make_change problem in lecture note 18, Analysis of Possibilities."
   ]
  },
  {
   "cell_type": "markdown",
   "metadata": {},
   "source": [
    "ANSWER:\n",
    "\n",
    "make_change_up_to_i(amount, coins, i) = make_change_up_to_i(amount - coins[i], coins,i-1) or make_change_up_to_i(amount, coins, i-1)\n",
    "\n",
    "\n",
    "\n"
   ]
  },
  {
   "cell_type": "markdown",
   "metadata": {},
   "source": [
    "**Problem 4**\n",
    "\n",
    "Translate logic from the previous problem to Python.  Your Python code must also take care of additional \"details\" to ensure that it correctly solve the problems for all values of i.\n",
    "\n",
    "Note that once we solve *make_change_up_to_i*, we can solve the original *limited_make_change* problem easily as follows:\n",
    "\n",
    "\n",
    "def limited_make_change(amount, coins):\n",
    "    return make_change_up_to_i(amount, coins, len(coins)-1)\n",
    "\n"
   ]
  },
  {
   "cell_type": "code",
   "execution_count": 28,
   "metadata": {},
   "outputs": [],
   "source": [
    "# YOUR ANSWER\n",
    "\n",
    "def make_change_up_to_i(amount, coins, i):\n",
    "    if amount == 0:\n",
    "        return True\n",
    "    if i == 0 and amount != coins[i]:\n",
    "        return False\n",
    "    if make_change_up_to_i(amount - coins[i],coins,i - 1) == True:\n",
    "        return True\n",
    "    else:\n",
    "        return make_change_up_to_i(amount,coins,i-1)"
   ]
  },
  {
   "cell_type": "code",
   "execution_count": 44,
   "metadata": {},
   "outputs": [],
   "source": [
    "def limited_make_change(amount, coins):\n",
    "    return make_change_up_to_i(amount, coins, len(coins)-1)"
   ]
  },
  {
   "cell_type": "code",
   "execution_count": 46,
   "metadata": {},
   "outputs": [
    {
     "name": "stdout",
     "output_type": "stream",
     "text": [
      "True\n"
     ]
    }
   ],
   "source": [
    "print (limited_make_change(19,[3, 3, 5, 7, 14]))"
   ]
  },
  {
   "cell_type": "markdown",
   "metadata": {},
   "source": [
    "**Question 5**\n",
    "\n",
    "*make_change_up_to_i* is exponentially slow if recursive computations are not saved.\n",
    "\n",
    "To save computation using a Table, which is a dictionary, we have to identify what the keys and values of the Table are.\n",
    "\n",
    "The inputs of *make_change_up_to_i* are *amount*, *coins*, and *i*.  \n",
    "\n",
    "However, *coins* remains unchanged in each recursive call of the solution.\n",
    "\n",
    "In each recursive call, the only things that change are *amount* and *i*.\n",
    "\n",
    "What are the keys of *Table*?\n",
    "\n",
    "What are the values of *Table*?\n",
    "\n",
    "Given some examples."
   ]
  },
  {
   "cell_type": "markdown",
   "metadata": {},
   "source": [
    "ANSWER:\n",
    "\n",
    "The keys of Table are amount and i.\n",
    "\n",
    "The value of Table is True or False\n",
    "\n",
    "\n",
    "\n"
   ]
  },
  {
   "cell_type": "markdown",
   "metadata": {},
   "source": [
    "**Problem 6**\n",
    "\n",
    "Modify *make_change_up_to_i* in a way that uses a table to store values of recursive computation so as to speed up the program.\n",
    "\n"
   ]
  },
  {
   "cell_type": "code",
   "execution_count": 74,
   "metadata": {},
   "outputs": [],
   "source": [
    "# YOUR ANSWER\n",
    "\n",
    "\n",
    "Table = {}\n",
    "\n",
    "def make_change_up_to_i(amount, coins, i):\n",
    "    if (amount,i) in Table:\n",
    "        return Table[(amount,i)]\n",
    "    \n",
    "    if amount == 0:\n",
    "        Table[(amount,i)] = True\n",
    "        return True\n",
    "    if i == 0 and amount != coins[i]:\n",
    "        Table[(amount,i)] = False\n",
    "        return False\n",
    "    if make_change_up_to_i(amount - coins[i],coins,i - 1) == True:\n",
    "        Table[(amount,i)] = True\n",
    "        return True\n",
    "    else:\n",
    "        Table[(amount,i)] = False\n",
    "        return make_change_up_to_i(amount,coins,i-1)"
   ]
  }
 ],
 "metadata": {
  "kernelspec": {
   "display_name": "Python 3 (ipykernel)",
   "language": "python",
   "name": "python3"
  },
  "language_info": {
   "codemirror_mode": {
    "name": "ipython",
    "version": 3
   },
   "file_extension": ".py",
   "mimetype": "text/x-python",
   "name": "python",
   "nbconvert_exporter": "python",
   "pygments_lexer": "ipython3",
   "version": "3.8.10"
  }
 },
 "nbformat": 4,
 "nbformat_minor": 4
}
